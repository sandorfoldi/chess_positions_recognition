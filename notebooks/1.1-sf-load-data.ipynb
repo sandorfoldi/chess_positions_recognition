{
 "cells": [
  {
   "cell_type": "code",
   "execution_count": 22,
   "metadata": {},
   "outputs": [
    {
     "name": "stdout",
     "output_type": "stream",
     "text": [
      "/home/sandor/dtu/2021-22-january/mlops/chess_positions_recognition\n"
     ]
    }
   ],
   "source": [
    "import torch\n",
    "from torch.utils.data import DataLoader, Dataset\n",
    "import matplotlib.pyplot as plt\n",
    "%cd '~/dtu/2021-22-january/mlops/chess_positions_recognition'\n"
   ]
  },
  {
   "cell_type": "code",
   "execution_count": 23,
   "metadata": {},
   "outputs": [],
   "source": [
    "class ChessPositionsDataset(Dataset):\n",
    "    def __init__(self, path_to_data: str, transform) -> None:\n",
    "        print(path_to_data)\n",
    "        \n",
    "        self.transform = transform\n",
    "        self.labels = torch.load(path_to_data+'/labels_train.pt')\n",
    "\n",
    "    def __len__(self):\n",
    "        return self.labels.shape[0]\n",
    "    \n",
    "    def __getitem__(self, index: int) -> torch.Tensor:\n",
    "        q, mod = divmod(index, 2**14)\n",
    "        t = torch.load('data/processed/train_1/imgs_train_'+str(q)+'.pt')\n",
    "        # img = Image.open(self.img_paths[index])\n",
    "        img = t[mod]\n",
    "        if self.transform is not None:\n",
    "            img = self.transform(img)\n",
    "        label = self.labels[index]\n",
    "        return img, label"
   ]
  },
  {
   "cell_type": "code",
   "execution_count": 28,
   "metadata": {},
   "outputs": [
    {
     "name": "stdout",
     "output_type": "stream",
     "text": [
      "data/processed/train_1\n",
      "65536\n",
      "tensor(8.)\n"
     ]
    },
    {
     "data": {
      "image/png": "[encoded data removed]",
      "text/plain": [
       "<Figure size 432x288 with 1 Axes>"
      ]
     },
     "metadata": {
      "needs_background": "light"
     },
     "output_type": "display_data"
    }
   ],
   "source": [
    "dataset = ChessPositionsDataset('data/processed/train_1', None)\n",
    "print(len(dataset))\n",
    "ind = 2**12+1\n",
    "print(dataset[ind][1])\n",
    "# print(dataset[ind][0])\n",
    "\n",
    "plt.imshow(dataset[ind][0]/255,)\n",
    "plt.show()\n"
   ]
  },
  {
   "cell_type": "code",
   "execution_count": 6,
   "metadata": {},
   "outputs": [
    {
     "name": "stdout",
     "output_type": "stream",
     "text": [
      "/home/sandor/dtu/2021-22-january/mlops/chess_positions_recognition/notebooks\n"
     ]
    }
   ],
   "source": []
  }
 ],
 "metadata": {
  "interpreter": {
   "hash": "7448e18cc4a20eb35d80a9c378a087d6b8f1643b35795f4ea0bd87cbcc341a38"
  },
  "kernelspec": {
   "display_name": "Python 3.8.10 64-bit ('mlops-env': virtualenv)",
   "language": "python",
   "name": "python3"
  },
  "language_info": {
   "codemirror_mode": {
    "name": "ipython",
    "version": 3
   },
   "file_extension": ".py",
   "mimetype": "text/x-python",
   "name": "python",
   "nbconvert_exporter": "python",
   "pygments_lexer": "ipython3",
   "version": "3.8.10"
  },
  "orig_nbformat": 4
 },
 "nbformat": 4,
 "nbformat_minor": 2
}
