{
 "cells": [
  {
   "cell_type": "code",
   "execution_count": 2,
   "metadata": {},
   "outputs": [
    {
     "name": "stdout",
     "output_type": "stream",
     "text": [
      "torch.Size([2, 1, 50, 50])\n",
      "torch.float32\n"
     ]
    }
   ],
   "source": [
    "import torch\n",
    "from torchvision.datasets import ImageFolder\n",
    "from torch.utils.data import DataLoader, Dataset\n",
    "from torchvision import transforms\n",
    "\n",
    "\n",
    "t = transforms.Compose(\n",
    "    [\n",
    "        transforms.Resize((50, 50)),\n",
    "        transforms.ToTensor(),\n",
    "        transforms.Grayscale(num_output_channels=1),\n",
    "    ]\n",
    ")\n",
    "\n",
    "ds = ImageFolder(f\"~/dtu/2021-22-january/mlops/tmp\", transform=t)\n",
    "train_loader = DataLoader(ds, batch_size=2)\n",
    "batch_item = iter(train_loader).next()\n",
    "print(batch_item[0].shape)\n",
    "print(batch_item[0].dtype)"
   ]
  },
  {
   "cell_type": "code",
   "execution_count": null,
   "metadata": {},
   "outputs": [],
   "source": []
  }
 ],
 "metadata": {
  "interpreter": {
   "hash": "7448e18cc4a20eb35d80a9c378a087d6b8f1643b35795f4ea0bd87cbcc341a38"
  },
  "kernelspec": {
   "display_name": "Python 3.8.10 64-bit ('mlops-env': virtualenv)",
   "language": "python",
   "name": "python3"
  },
  "language_info": {
   "codemirror_mode": {
    "name": "ipython",
    "version": 3
   },
   "file_extension": ".py",
   "mimetype": "text/x-python",
   "name": "python",
   "nbconvert_exporter": "python",
   "pygments_lexer": "ipython3",
   "version": "3.8.10"
  },
  "orig_nbformat": 4
 },
 "nbformat": 4,
 "nbformat_minor": 2
}
