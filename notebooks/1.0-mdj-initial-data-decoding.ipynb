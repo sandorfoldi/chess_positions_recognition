{
 "cells": [
  {
   "cell_type": "markdown",
   "metadata": {},
   "source": [
    "## Forsyth–Edwards Notation\n",
    "\n",
    "Piece placement (from White's perspective). Each rank is described, starting with rank 8 and ending with rank 1; within each rank, the contents of each square are described from file \"a\" through file \"h\". Following the Standard Algebraic Notation (SAN), each piece is identified by a single letter taken from the standard English names (pawn = \"P\", **knight = \"N\", bishop = \"B\", rook = \"R\", queen = \"Q\" and king = \"K\"**). White pieces are designated using upper-case letters (\"PNBRQK\") while black pieces use lowercase (\"pnbrqk\"). Empty squares are noted using digits 1 through 8 (the number of empty squares), and \"/\" separates ranks."
   ]
  },
  {
   "cell_type": "markdown",
   "metadata": {},
   "source": []
  },
  {
   "cell_type": "code",
   "execution_count": 29,
   "metadata": {},
   "outputs": [],
   "source": [
    "import re\n",
    "import numpy as np"
   ]
  },
  {
   "cell_type": "code",
   "execution_count": 47,
   "metadata": {},
   "outputs": [
    {
     "name": "stdout",
     "output_type": "stream",
     "text": [
      "1B1B2K11B65N26k18884nq2\n",
      "[[0. 1. 0. 1. 0. 0. 2. 0. 0. 1. 0. 0. 0. 0. 0. 0. 0. 0. 0. 0. 0. 3. 0. 0.\n",
      "  0. 0. 0. 0. 0. 0. 4. 0. 0. 0. 0. 0. 0. 0. 0. 0. 0. 0. 0. 0. 0. 0. 0. 0.\n",
      "  0. 0. 0. 0. 0. 0. 0. 0. 0. 0. 0. 0. 5. 6. 0. 0.]]\n"
     ]
    }
   ],
   "source": [
    "jpg_name = \"1B1B2K1-1B6-5N2-6k1-8-8-8-4nq2.jpeg\"\n",
    "\n",
    "jpg_name_split = re.split(\"[-,.]\", jpg_name)[:-1]\n",
    "board_squares = \"\".join(jpg_name_split)\n",
    "print(board_squares)\n",
    "\n",
    "class_dict = {\n",
    "    \"e\": 0,\n",
    "    \"E\": 0,\n",
    "    \"r\": 1,\n",
    "    \"n\": 2,\n",
    "    \"b\": 3,\n",
    "    \"q\": 4,\n",
    "    \"k\": 5,\n",
    "    \"p\": 6,\n",
    "    \"R\": 7,\n",
    "    \"N\": 8,\n",
    "    \"B\": 9,\n",
    "    \"Q\": 10,\n",
    "    \"K\": 11,\n",
    "    \"P\": 12,\n",
    "}\n",
    "labels = np.zeros((64, 1))\n",
    "\n",
    "counter = 0\n",
    "for i, square in enumerate(board_squares):\n",
    "    if square.isnumeric():\n",
    "        counter += int(square)\n",
    "    else:\n",
    "        labels[counter] = class_dict[square]\n",
    "        counter += 1\n",
    "\n",
    "print(labels.T)"
   ]
  },
  {
   "cell_type": "code",
   "execution_count": null,
   "metadata": {},
   "outputs": [],
   "source": []
  }
 ],
 "metadata": {
  "interpreter": {
   "hash": "02100e3c255e88f2defaf5cee122a89cf9dd60fc1b6537d4ba1ae1680602f24e"
  },
  "kernelspec": {
   "display_name": "Python 3.9.7 64-bit ('chess_position_project': conda)",
   "language": "python",
   "name": "python3"
  },
  "language_info": {
   "codemirror_mode": {
    "name": "ipython",
    "version": 3
   },
   "file_extension": ".py",
   "mimetype": "text/x-python",
   "name": "python",
   "nbconvert_exporter": "python",
   "pygments_lexer": "ipython3",
   "version": "3.9.7"
  },
  "orig_nbformat": 4
 },
 "nbformat": 4,
 "nbformat_minor": 2
}
