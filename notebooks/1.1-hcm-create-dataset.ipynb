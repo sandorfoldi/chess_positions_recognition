{
 "cells": [
  {
   "cell_type": "code",
   "execution_count": 20,
   "metadata": {},
   "outputs": [],
   "source": [
    "import torch\n",
    "import matplotlib.pyplot as plt\n",
    "import numpy as np\n",
    "from PIL import Image\n",
    "import matplotlib.pyplot as plt\n",
    "from torch import nn, optim\n",
    "from keras.callbacks import TensorBoard\n",
    "from torch.utils.data import TensorDataset\n",
    "import torchvision.transforms as transforms\n",
    "from typing import Callable, Tuple, Union, Optional, List\n",
    "from torchvision.datasets import ImageFolder\n",
    "\n",
    "data_dir = '../data'"
   ]
  },
  {
   "cell_type": "code",
   "execution_count": 21,
   "metadata": {},
   "outputs": [],
   "source": [
    "def crop(image):\n",
    "    parts = []\n",
    "    for r in range(0,image.shape[0],50):\n",
    "        for c in range(0,image.shape[1],50):\n",
    "            parts.append(image[r:r+50, c:c+50,:])\n",
    "    return parts"
   ]
  },
  {
   "cell_type": "code",
   "execution_count": 22,
   "metadata": {},
   "outputs": [],
   "source": [
    "def transform_label(filename: str) -> List[str]:\n",
    "    orig_label = filename.split('.')[0]\n",
    "    transformed_label = []\n",
    "    ranks = orig_label.split('-')\n",
    "    for rank in ranks:\n",
    "        for letter in rank:\n",
    "            if letter in list('0123456789'):\n",
    "                transformed_label.extend(list(int(letter)*'E'))\n",
    "            else:\n",
    "                transformed_label.append(letter)\n",
    "    return transformed_label"
   ]
  },
  {
   "cell_type": "code",
   "execution_count": 24,
   "metadata": {},
   "outputs": [],
   "source": [
    "def make_dataset(in_dir: str, out_dir: str, no_files: int) -> None:\n",
    "    files = os.listdir(in_dir)\n",
    "    files = files[:no_files]\n",
    "    for idx, file in enumerate(files):\n",
    "        folder_names = transform_label(file)\n",
    "        for name in folder_names:\n",
    "            if not name.isupper():\n",
    "                os.makedirs(f'{out_dir}/b_{name}', exist_ok=True)  \n",
    "            else:\n",
    "                os.makedirs(f'{out_dir}/w_{name}', exist_ok=True)  \n",
    "        orig_image = Image.open(f'{in_dir}/{file}')\n",
    "        orig_image = np.array(orig_image)\n",
    "        cropped_images = crop(orig_image)\n",
    "        for i in range(len(folder_names)):\n",
    "            image = Image.fromarray(cropped_images[i])\n",
    "            if not folder_names[i].isupper():\n",
    "                image.save(f'{out_dir}/b_{folder_names[i]}/{idx}-{i}.jpeg')  \n",
    "            else:\n",
    "                image.save(f'{out_dir}/w_{folder_names[i]}/{idx}-{i}.jpeg')"
   ]
  },
  {
   "cell_type": "code",
   "execution_count": 25,
   "metadata": {},
   "outputs": [],
   "source": [
    "os.mkdir(f'{data_dir}/processed/train2')\n",
    "make_dataset(f'{data_dir}/raw/train', f'{data_dir}/processed/train2', 1000)\n",
    "\n",
    "os.mkdir(f'{data_dir}/processed/test2')\n",
    "make_dataset(f'{data_dir}/raw/test', f'{data_dir}/processed/test2', 500)\n"
   ]
  }
 ],
 "metadata": {
  "interpreter": {
   "hash": "5e6c4ce725f74e7e2d791152d1c49900eadd59140924e72506b54ef17461f95d"
  },
  "kernelspec": {
   "display_name": "Python 3.9.7 64-bit ('my_env': conda)",
   "language": "python",
   "name": "python3"
  },
  "language_info": {
   "codemirror_mode": {
    "name": "ipython",
    "version": 3
   },
   "file_extension": ".py",
   "mimetype": "text/x-python",
   "name": "python",
   "nbconvert_exporter": "python",
   "pygments_lexer": "ipython3",
   "version": "3.9.7"
  },
  "orig_nbformat": 4
 },
 "nbformat": 4,
 "nbformat_minor": 2
}
